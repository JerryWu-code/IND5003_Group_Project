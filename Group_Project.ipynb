version https://git-lfs.github.com/spec/v1
oid sha256:09e58556799a9be13cf7ed9f0930d1f1f4d3539ad2d326cc795ea05ab6cda6e6
size 60876266
