version https://git-lfs.github.com/spec/v1
oid sha256:def87143c94ecadabd5860628fdee0e45dee4c998839dc5123f224180b79dfe2
size 59844469
