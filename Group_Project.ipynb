version https://git-lfs.github.com/spec/v1
oid sha256:a8927599572a01f14eac09cb6402539bcbe1742b8829fa1491ce597a2c3f828d
size 60958643
