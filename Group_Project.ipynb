version https://git-lfs.github.com/spec/v1
oid sha256:8065c6606f2185c70f0e3aba673d20feb2cda2f32705844173f99acd75726227
size 60879555
